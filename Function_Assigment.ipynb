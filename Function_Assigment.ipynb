{
  "nbformat": 4,
  "nbformat_minor": 0,
  "metadata": {
    "colab": {
      "provenance": [],
      "authorship_tag": "ABX9TyPZ8BS5P4gjNRBWxsSy6brM",
      "include_colab_link": true
    },
    "kernelspec": {
      "name": "python3",
      "display_name": "Python 3"
    },
    "language_info": {
      "name": "python"
    }
  },
  "cells": [
    {
      "cell_type": "markdown",
      "metadata": {
        "id": "view-in-github",
        "colab_type": "text"
      },
      "source": [
        "<a href=\"https://colab.research.google.com/github/Lekitsherin1999/Week-6-Assignment/blob/main/Function_Assigment.ipynb\" target=\"_parent\"><img src=\"https://colab.research.google.com/assets/colab-badge.svg\" alt=\"Open In Colab\"/></a>"
      ]
    },
    {
      "cell_type": "markdown",
      "source": [
        "Reseach and practive the following about functions:\n",
        "\n",
        "1. How to write Keywword arguments\n",
        "2. Varable number of arguments\n",
        "   * *args\n",
        "   * **kwargs"
      ],
      "metadata": {
        "id": "ACYLcx0VVaiq"
      }
    },
    {
      "cell_type": "markdown",
      "metadata": {
        "id": "0922afaa"
      },
      "source": [
        "## Keyword Arguments\n",
        "\n",
        "Keyword arguments are arguments passed to a function that are preceded by a variable name and an equals sign (`=`). This allows you to pass arguments in any order, as long as you specify the keyword."
      ]
    },
    {
      "cell_type": "code",
      "metadata": {
        "colab": {
          "base_uri": "https://localhost:8080/"
        },
        "id": "76a1fa38",
        "outputId": "4a85809a-19b2-4e79-e734-26bf403428a1"
      },
      "source": [
        "def my_function(arg1, arg2):\n",
        "  print(f\"arg1: {arg1}, arg2: {arg2}\")\n",
        "\n",
        "# Using positional arguments (order matters)\n",
        "my_function(\"hello\", \"world\")\n",
        "\n",
        "# Using keyword arguments (order doesn't matter)\n",
        "my_function(arg2=\"world\", arg1=\"hello\")"
      ],
      "execution_count": 1,
      "outputs": [
        {
          "output_type": "stream",
          "name": "stdout",
          "text": [
            "arg1: hello, arg2: world\n",
            "arg1: hello, arg2: world\n"
          ]
        }
      ]
    },
    {
      "cell_type": "markdown",
      "metadata": {
        "id": "2df1fb22"
      },
      "source": [
        "## Variable Number of Arguments (*args)\n",
        "\n",
        "`*args` is used to pass a variable number of non-keyword arguments to a function. The `*` before the parameter name indicates that the function can accept any number of positional arguments, which will be packed into a tuple."
      ]
    },
    {
      "cell_type": "code",
      "metadata": {
        "colab": {
          "base_uri": "https://localhost:8080/"
        },
        "id": "87f54a37",
        "outputId": "503acbb9-b856-49ab-bf67-4885e0a9dd0a"
      },
      "source": [
        "def my_sum(*args):\n",
        "  total = 0\n",
        "  for num in args:\n",
        "    total += num\n",
        "  return total\n",
        "\n",
        "print(my_sum(1, 2, 3, 4, 5))\n",
        "print(my_sum(10, 20))"
      ],
      "execution_count": 2,
      "outputs": [
        {
          "output_type": "stream",
          "name": "stdout",
          "text": [
            "15\n",
            "30\n"
          ]
        }
      ]
    },
    {
      "cell_type": "markdown",
      "metadata": {
        "id": "03d63538"
      },
      "source": [
        "## Variable Number of Keyword Arguments (**kwargs)\n",
        "\n",
        "`**kwargs` is used to pass a variable number of keyword arguments to a function. The `**` before the parameter name indicates that the function can accept any number of keyword arguments, which will be packed into a dictionary."
      ]
    },
    {
      "cell_type": "code",
      "metadata": {
        "colab": {
          "base_uri": "https://localhost:8080/"
        },
        "id": "9c941b38",
        "outputId": "dae56cac-46e0-492c-dc44-ed15180f6628"
      },
      "source": [
        "def my_profile(**kwargs):\n",
        "  for key, value in kwargs.items():\n",
        "    print(f\"{key}: {value}\")\n",
        "\n",
        "my_profile(name=\"Alice\", age=30, city=\"New York\")\n",
        "my_profile(product=\"Laptop\", brand=\"Dell\")"
      ],
      "execution_count": 3,
      "outputs": [
        {
          "output_type": "stream",
          "name": "stdout",
          "text": [
            "name: Alice\n",
            "age: 30\n",
            "city: New York\n",
            "product: Laptop\n",
            "brand: Dell\n"
          ]
        }
      ]
    },
    {
      "cell_type": "markdown",
      "source": [
        "Create a calculator\n",
        "\n",
        "Write a python program that:\n",
        "\n",
        "Defines a function called calculate_grade(marks) that:\n",
        "1. Takes marks (0-100) as input\n",
        "2. Returns the grade based the this scale\n",
        "* 90-100 - A\n",
        "* 80-89 - B\n",
        "* 70-79 - C\n",
        "* 60 - 69 - D\n",
        "* Below 60 - F\n",
        "3. Ask the user to enter their marks\n",
        "4. Call the function and print \"Your grade is X\""
      ],
      "metadata": {
        "id": "a4Ymh1ovWiqK"
      }
    },
    {
      "cell_type": "code",
      "metadata": {
        "colab": {
          "base_uri": "https://localhost:8080/"
        },
        "id": "f38b22dd",
        "outputId": "b5b67e7a-857b-40c8-a726-026e69743e7d"
      },
      "source": [
        "def calculate_grade(marks):\n",
        "  \"\"\"Calculates the grade based on marks.\"\"\"\n",
        "  if 90 <= marks <= 100:\n",
        "    return \"A\"\n",
        "  elif 80 <= marks <= 89:\n",
        "    return \"B\"\n",
        "  elif 70 <= marks <= 79:\n",
        "    return \"C\"\n",
        "  elif 60 <= marks <= 69:\n",
        "    return \"D\"\n",
        "  elif 0 <= marks < 60:\n",
        "    return \"F\"\n",
        "  else:\n",
        "    return \"Invalid marks. Please enter marks between 0 and 100.\"\n",
        "\n",
        "# Ask the user to enter their marks\n",
        "try:\n",
        "  user_marks = int(input(\"Enter your marks (0-100): \"))\n",
        "  grade = calculate_grade(user_marks)\n",
        "  print(f\"Your grade is {grade}\")\n",
        "except ValueError:\n",
        "  print(\"Invalid input. Please enter a number.\")"
      ],
      "execution_count": 4,
      "outputs": [
        {
          "output_type": "stream",
          "name": "stdout",
          "text": [
            "Enter your marks (0-100): 50\n",
            "Your grade is F\n"
          ]
        }
      ]
    }
  ]
}