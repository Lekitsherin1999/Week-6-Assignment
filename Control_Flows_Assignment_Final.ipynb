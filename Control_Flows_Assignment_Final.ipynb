{
  "nbformat": 4,
  "nbformat_minor": 0,
  "metadata": {
    "colab": {
      "provenance": [],
      "authorship_tag": "ABX9TyMox2mZIWNdcNrOIIAuMW1Z",
      "include_colab_link": true
    },
    "kernelspec": {
      "name": "python3",
      "display_name": "Python 3"
    },
    "language_info": {
      "name": "python"
    }
  },
  "cells": [
    {
      "cell_type": "markdown",
      "metadata": {
        "id": "view-in-github",
        "colab_type": "text"
      },
      "source": [
        "<a href=\"https://colab.research.google.com/github/Lekitsherin1999/Week-6-Assignment/blob/main/Control_Flows_Assignment_Final.ipynb\" target=\"_parent\"><img src=\"https://colab.research.google.com/assets/colab-badge.svg\" alt=\"Open In Colab\"/></a>"
      ]
    },
    {
      "cell_type": "markdown",
      "source": [
        "You have a Cinema you are operating giving tickets based on age\n",
        "\n",
        "* Children (Below 12 years) pay 300\n",
        "* Teenager (12 and 17) Pay 500\n",
        "* Adults (18 - 59) Pay 800\n",
        "* Senoirs (60+ ) pay 400\n",
        "\n",
        "Write a python program that will ask\n",
        "\n",
        "* Ask the user to enter the age\n",
        "* Uses an if statement to decide the ticket price\n",
        "* print \"Your ticket price is AMT: X\" where X is the correct price\n"
      ],
      "metadata": {
        "id": "hSEonXPwX_5T"
      }
    },
    {
      "cell_type": "code",
      "metadata": {
        "colab": {
          "base_uri": "https://localhost:8080/"
        },
        "id": "0dc10fe8",
        "outputId": "f010e7fd-36e6-4773-d50f-8c12d1520136"
      },
      "source": [
        "age = int(input(\"Enter your age: \"))\n",
        "\n",
        "if age < 12:\n",
        "  price = 300\n",
        "elif 12 <= age <= 17:\n",
        "  price = 500\n",
        "elif 18 <= age <= 59:\n",
        "  price = 800\n",
        "else:\n",
        "  price = 400\n",
        "\n",
        "print(f\"Your ticket price is AMT: {price}\")"
      ],
      "execution_count": 9,
      "outputs": [
        {
          "output_type": "stream",
          "name": "stdout",
          "text": [
            "Enter your age: 90\n",
            "Your ticket price is AMT: 400\n"
          ]
        }
      ]
    },
    {
      "cell_type": "markdown",
      "source": [
        "Create a program in python that will as someone to enter the range of numbers they want to create and give a range of number between 0 and the number and give only numbers that are divisible by 3"
      ],
      "metadata": {
        "id": "_S2KkrjSY41G"
      }
    },
    {
      "cell_type": "code",
      "metadata": {
        "colab": {
          "base_uri": "https://localhost:8080/"
        },
        "id": "f0469d21",
        "outputId": "ea30d894-037c-4f19-d66b-11a52b14d53b"
      },
      "source": [
        "end_range = int(input(\"Enter the upper limit of the range: \"))\n",
        "\n",
        "print(f\"Numbers divisible by 3 between 0 and {end_range}:\")\n",
        "for number in range(end_range + 1):\n",
        "  if number % 3 == 0:\n",
        "    print(number)"
      ],
      "execution_count": 8,
      "outputs": [
        {
          "output_type": "stream",
          "name": "stdout",
          "text": [
            "Enter the upper limit of the range: 9\n",
            "Numbers divisible by 3 between 0 and 9:\n",
            "0\n",
            "3\n",
            "6\n",
            "9\n"
          ]
        }
      ]
    },
    {
      "cell_type": "markdown",
      "source": [
        "Write a python program that;\n",
        "1. Picks a secret number (e.g 7)\n",
        "2. Asks the user to guess the number\n",
        "3. keep asking until the user gueses correclty (Using the while loop)\n",
        "4. Print \"Congratulations, you gazed it right\" when the answer is correct"
      ],
      "metadata": {
        "id": "dDIO-tcqZK2w"
      }
    },
    {
      "cell_type": "code",
      "metadata": {
        "colab": {
          "base_uri": "https://localhost:8080/"
        },
        "id": "10bf12f6",
        "outputId": "171909fe-a584-4b93-837c-56a654bfdb5d"
      },
      "source": [
        "import random\n",
        "\n",
        "secret_number = random.randint(1, 10)  # Picks a random secret number between 1 and 10\n",
        "\n",
        "guess = 0\n",
        "while guess != secret_number:\n",
        "  try:\n",
        "    guess = int(input(\"Guess the secret number: \"))\n",
        "    if guess == secret_number:\n",
        "      print(\"Congratulations, you guessed it right\")\n",
        "    elif guess < secret_number:\n",
        "      print(\"Too low, try again\")\n",
        "    else:\n",
        "      print(\"Too high, try again\")\n",
        "  except ValueError:\n",
        "    print(\"Invalid input. Please enter an integer.\")"
      ],
      "execution_count": 7,
      "outputs": [
        {
          "output_type": "stream",
          "name": "stdout",
          "text": [
            "Guess the secret number: 7\n",
            "Too high, try again\n",
            "Guess the secret number: 10\n",
            "Too high, try again\n",
            "Guess the secret number: 1\n",
            "Too low, try again\n",
            "Guess the secret number: 4\n",
            "Congratulations, you guessed it right\n"
          ]
        }
      ]
    }
  ]
}